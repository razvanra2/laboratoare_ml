{
  "nbformat": 4,
  "nbformat_minor": 0,
  "metadata": {
    "colab": {
      "name": "Copy of Linear Regression.ipynb",
      "provenance": [],
      "collapsed_sections": []
    },
    "kernelspec": {
      "display_name": "Python 3",
      "language": "python",
      "name": "python3"
    },
    "language_info": {
      "codemirror_mode": {
        "name": "ipython",
        "version": 3
      },
      "file_extension": ".py",
      "mimetype": "text/x-python",
      "name": "python",
      "nbconvert_exporter": "python",
      "pygments_lexer": "ipython3",
      "version": "3.6.8"
    }
  },
  "cells": [
    {
      "cell_type": "markdown",
      "metadata": {
        "id": "xToqjT_ruXN7",
        "colab_type": "text"
      },
      "source": [
        "<a href=\"https://colab.research.google.com/github/cs-pub-ro/ML/blob/master/lab3/Laborator_3-Skel.ipynb\" target=\"_parent\"><img src=\"https://colab.research.google.com/assets/colab-badge.svg\" alt=\"Open In Colab\"/></a>"
      ]
    },
    {
      "cell_type": "markdown",
      "metadata": {
        "colab_type": "text",
        "id": "nmTEUYdMWFAY"
      },
      "source": [
        "Regresie Liniară\n",
        "==============\n",
        "\n",
        "\n",
        "* Tudor Berariu, Andrei Nica 2018\n",
        "\n",
        "* Alexandru Sorici 2020"
      ]
    },
    {
      "cell_type": "markdown",
      "metadata": {
        "id": "AugR16LJuXOH",
        "colab_type": "text"
      },
      "source": [
        "## 1. Scopul Laboratorului"
      ]
    },
    {
      "cell_type": "markdown",
      "metadata": {
        "id": "b8qZQ3wVuXOJ",
        "colab_type": "text"
      },
      "source": [
        "Scopul laboratorului îl reprezintă înțelegerea algoritmului de **regresie liniară**, precum și a noțiunilor de _extragere de atribute (features)_ _complexitate a modelului_ și _regularizare_."
      ]
    },
    {
      "cell_type": "markdown",
      "metadata": {
        "id": "TnU8S98buXOM",
        "colab_type": "text"
      },
      "source": [
        "## 2. Problema de rezolvat"
      ]
    },
    {
      "cell_type": "markdown",
      "metadata": {
        "id": "TztSRfWGuXOO",
        "colab_type": "text"
      },
      "source": [
        "Problema de rezolvat în acest laborator este una de învățare supervizată, mai concret, de **regresie**. \n",
        "\n",
        "Fiind date eșantionări de puncte (samples) **(X, t)**, generate de o funcție necunoscută, se dorește construirea unui **model liniar** care să poată _potrivi_ setul de date **X** (să aproximeze funcția) și care să poată fi utilizat pentru a _evalua/prezice_ valori noi.\n",
        "\n",
        "Vom explora trei aspecte ale problemei de **regresie liniara**:\n",
        "* Regresie liniara simplă (potrivirea unei drepte)\n",
        "* Regresie liniară folosind **extragere de atribute** (eng. feature extraction)\n",
        "* **Regularizare**, **analiza complexității modelului de regresie** și **influența numărului de date de antrenare**"
      ]
    },
    {
      "cell_type": "markdown",
      "metadata": {
        "id": "V_bgLaCtuXOS",
        "colab_type": "text"
      },
      "source": [
        "## 3. Regresie liniară simplă"
      ]
    },
    {
      "cell_type": "markdown",
      "metadata": {
        "id": "6BtnBrbMuXOU",
        "colab_type": "text"
      },
      "source": [
        "![https://github.com/cs-pub-ro/ML/blob/master/lab3/img/line-func.png](attachment:line-func.png)"
      ]
    },
    {
      "cell_type": "markdown",
      "metadata": {
        "id": "5WUDjCXDuXOY",
        "colab_type": "text"
      },
      "source": [
        "Se dă setul de date (**X**, **t**) constând dintr-o mulțime **X** de N puncte de dimensiune D (i.e. fiecare ${\\bf x^{(i)}} \\in {\\bf X}$ este de forma ${\\bf x} = (x_1, x_2, ..., x_D)$).\n",
        "Pentru fiecare ${\\bf x}^{(n)} \\in X$ exista un $t^{(n)}$ reprezentand valoarea unei functii $f$ (necunoscute noua) in punctul ${\\bf x}^{(n)}$, i.e. $t^{(n)} = f({\\bf x}^{(n)})$.\n",
        "\n",
        "Un model de regresie liniara simpla care doreste sa aproximeze functia $f$ este definit ca $${\\bf y} = {\\bf X} {\\bf w} + b$$ unde ${\\bf w}$ este un vector D-dimensional de ponderi, iar $b$ este termenul de bias.\n",
        "\n",
        "In regresia liniara simpla se cauta solutia de **forma inchisa**:\n",
        "$${\\bf w}^* = \\underset{{\\bf w}}{\\arg\\!\\min} \\sum_{n} \\left({\\bf x^{(n)}} {\\bf w} - t^{(n)}\\right)^2$$\n",
        "$${\\bf w}^* = \\left({\\bf X}^\\intercal {\\bf X}\\right)^{-1} {\\bf X}^\\intercal {\\bf t} = {\\bf X}^{\\dagger} {\\bf t}$$\n",
        "\n",
        "unde ${\\bf X^{\\dagger}}$ este _pseudo inversa_ matricii ${\\bf X}$.\n"
      ]
    },
    {
      "cell_type": "markdown",
      "metadata": {
        "id": "0S002tR4uXOb",
        "colab_type": "text"
      },
      "source": [
        "## 4. Regresie liniara cu extragere de atribute"
      ]
    },
    {
      "cell_type": "markdown",
      "metadata": {
        "id": "VLRdwFtHuXOd",
        "colab_type": "text"
      },
      "source": [
        "![sine-func.png](attachment:sine-func.png)"
      ]
    },
    {
      "cell_type": "markdown",
      "metadata": {
        "id": "2dyxoOhluXOg",
        "colab_type": "text"
      },
      "source": [
        "In unele cazuri, functia $f$ din care provine setul de date (**X, t**) nu este unul care sa poata fi aproximat printr-o simpla combinatie liniara a **spatiului de intrare** (i.e. a domeniului din care provine **X**).\n",
        "\n",
        "Intr-un astfel de caz, spatiul de intrare poate fi _transformat_ intr-unul mai complex, avand o capabilitate de modelare mai bogata.\n",
        "Acest lucru se face prin intermediul unor _functii de transformare_ $\\phi$ care duc ${\\bf x^{(n)}} \\rightarrow \\phi({\\bf x^{(n)}})$.\n",
        "\n",
        "Un exemplu il reprezinta functiile de **transformari polinomiale** de tipul:\n",
        "$$\\phi_i(x) = x^i, \\quad 0 \\le i \\le M$$\n",
        "unde $M$ este gradul polinomului cu care se face transformarea."
      ]
    },
    {
      "cell_type": "markdown",
      "metadata": {
        "id": "3oQo0vq3uXOi",
        "colab_type": "text"
      },
      "source": [
        "Solutia de regresie liniara (in forma inchisa) devine atunci:\n",
        "\n",
        "\n",
        "$${\\bf w}^* = \\underset{{\\bf w}}{\\arg\\!\\min} \\sum_{n} \\left({\\bf \\phi}^{(n)}{\\bf w} - t^{(n)}\\right)^2$$\n",
        "\n",
        "\n",
        "$${\\bf w}^* = \\left({\\bf \\Phi}^\\intercal {\\bf \\Phi}\\right)^{-1} {\\bf \\Phi}^\\intercal {\\bf t} = {\\bf \\Phi}^{\\dagger} {\\bf t}$$"
      ]
    },
    {
      "cell_type": "markdown",
      "metadata": {
        "id": "xwDSIQBuuXOl",
        "colab_type": "text"
      },
      "source": [
        "## 5. Regresie liniara cu regularizare"
      ]
    },
    {
      "cell_type": "markdown",
      "metadata": {
        "id": "n5JG99ARuXOq",
        "colab_type": "text"
      },
      "source": [
        "O solutie de optimizare in sensul celor mai mici patrate (ordinary least squares - OLS), cauta sa gaseasca _cea mai buna potrivire_ (best fit) pentru punctele din setul de date dat la antrenare.\n",
        "\n",
        "Acest lucru duce la construirea unui estimator **unbiased**, i.e. modelul nu va prefera _prioritizarea_ unui feature (i.e. un anume $\\phi^{(n)}$) in detrimentul altuia.\n",
        "In plus, daca _modelul este complex,_  iar _datele de antrenare sunt putine,_ optimizarea OLS poate duce la fenomenul de **overfit** (i.e. modelul este prea specific pe datele de antrenare, dar nu are o evaluare buna pe date de test).\n",
        "\n",
        "Un proces de **regularizare** are ca scop impunerea unei restrictii asupra parametrilor ${\\bf w}$, astfel incat modelul sa poata da un bias acelor feature-uri care sunt mai relevante (importante) in construirea estimatorului.\n",
        "\n",
        "Solutia de **regresie liniara cu regularizare L2** se scrie astfel:\n",
        "\n",
        "$${\\bf w}^* = \\underset{{\\bf w}}{\\arg\\!\\min} \\sum_{n} \\left({\\bf \\phi}^{(n)}{\\bf w} - t^{(n)}\\right)^2 + \\alpha {\\bf w^T}{\\bf w} \\equiv \\underset{{\\bf w: w^Tw \\leq t(\\alpha)}}{\\arg\\!\\min} \\sum_{n} \\left({\\bf \\phi}^{(n)}{\\bf w} - t^{(n)}\\right)^2 $$ \n",
        "\n",
        "Solutia de forma inchisa pentru regresia liniara cu regularizare L2 (eng. Ridge Regression) este data prin:\n",
        "$${\\bf w}^* = \\left({\\bf \\Phi}^\\intercal {\\bf \\Phi} + \\alpha I \\right)^{-1} {\\bf \\Phi}^\\intercal {\\bf t}$$\n"
      ]
    },
    {
      "cell_type": "markdown",
      "metadata": {
        "id": "Mqh9V3pTuXOt",
        "colab_type": "text"
      },
      "source": [
        "### Dependente"
      ]
    },
    {
      "cell_type": "code",
      "metadata": {
        "scrolled": false,
        "id": "-gtCOGhhuXOv",
        "colab_type": "code",
        "colab": {
          "base_uri": "https://localhost:8080/",
          "height": 370
        },
        "outputId": "288f4174-f212-41a4-cb8b-ec7f720d9531"
      },
      "source": [
        "!pip install numpy\n",
        "!pip install matplotlib\n",
        "!pip install seaborn"
      ],
      "execution_count": 384,
      "outputs": [
        {
          "output_type": "stream",
          "text": [
            "Requirement already satisfied: numpy in /usr/local/lib/python3.6/dist-packages (1.17.5)\n",
            "Requirement already satisfied: matplotlib in /usr/local/lib/python3.6/dist-packages (3.1.3)\n",
            "Requirement already satisfied: kiwisolver>=1.0.1 in /usr/local/lib/python3.6/dist-packages (from matplotlib) (1.1.0)\n",
            "Requirement already satisfied: pyparsing!=2.0.4,!=2.1.2,!=2.1.6,>=2.0.1 in /usr/local/lib/python3.6/dist-packages (from matplotlib) (2.4.6)\n",
            "Requirement already satisfied: numpy>=1.11 in /usr/local/lib/python3.6/dist-packages (from matplotlib) (1.17.5)\n",
            "Requirement already satisfied: python-dateutil>=2.1 in /usr/local/lib/python3.6/dist-packages (from matplotlib) (2.6.1)\n",
            "Requirement already satisfied: cycler>=0.10 in /usr/local/lib/python3.6/dist-packages (from matplotlib) (0.10.0)\n",
            "Requirement already satisfied: setuptools in /usr/local/lib/python3.6/dist-packages (from kiwisolver>=1.0.1->matplotlib) (45.2.0)\n",
            "Requirement already satisfied: six>=1.5 in /usr/local/lib/python3.6/dist-packages (from python-dateutil>=2.1->matplotlib) (1.12.0)\n",
            "Requirement already satisfied: seaborn in /usr/local/lib/python3.6/dist-packages (0.10.0)\n",
            "Requirement already satisfied: matplotlib>=2.1.2 in /usr/local/lib/python3.6/dist-packages (from seaborn) (3.1.3)\n",
            "Requirement already satisfied: pandas>=0.22.0 in /usr/local/lib/python3.6/dist-packages (from seaborn) (0.25.3)\n",
            "Requirement already satisfied: scipy>=1.0.1 in /usr/local/lib/python3.6/dist-packages (from seaborn) (1.4.1)\n",
            "Requirement already satisfied: numpy>=1.13.3 in /usr/local/lib/python3.6/dist-packages (from seaborn) (1.17.5)\n",
            "Requirement already satisfied: cycler>=0.10 in /usr/local/lib/python3.6/dist-packages (from matplotlib>=2.1.2->seaborn) (0.10.0)\n",
            "Requirement already satisfied: python-dateutil>=2.1 in /usr/local/lib/python3.6/dist-packages (from matplotlib>=2.1.2->seaborn) (2.6.1)\n",
            "Requirement already satisfied: pyparsing!=2.0.4,!=2.1.2,!=2.1.6,>=2.0.1 in /usr/local/lib/python3.6/dist-packages (from matplotlib>=2.1.2->seaborn) (2.4.6)\n",
            "Requirement already satisfied: kiwisolver>=1.0.1 in /usr/local/lib/python3.6/dist-packages (from matplotlib>=2.1.2->seaborn) (1.1.0)\n",
            "Requirement already satisfied: pytz>=2017.2 in /usr/local/lib/python3.6/dist-packages (from pandas>=0.22.0->seaborn) (2018.9)\n",
            "Requirement already satisfied: six in /usr/local/lib/python3.6/dist-packages (from cycler>=0.10->matplotlib>=2.1.2->seaborn) (1.12.0)\n",
            "Requirement already satisfied: setuptools in /usr/local/lib/python3.6/dist-packages (from kiwisolver>=1.0.1->matplotlib>=2.1.2->seaborn) (45.2.0)\n"
          ],
          "name": "stdout"
        }
      ]
    },
    {
      "cell_type": "code",
      "metadata": {
        "colab_type": "code",
        "id": "T9ifwdG8WFAa",
        "colab": {}
      },
      "source": [
        "import numpy as np\n",
        "\n",
        "import matplotlib.pyplot as plt\n",
        "import seaborn as sns"
      ],
      "execution_count": 0,
      "outputs": []
    },
    {
      "cell_type": "markdown",
      "metadata": {
        "id": "NgnrzDWLuXPC",
        "colab_type": "text"
      },
      "source": [
        "## 6. Generare seturi de date"
      ]
    },
    {
      "cell_type": "code",
      "metadata": {
        "scrolled": true,
        "id": "8-yjyJAyuXPE",
        "colab_type": "code",
        "colab": {}
      },
      "source": [
        "DATASET_TYPE = \"linear\" # linear, polinomial, sin"
      ],
      "execution_count": 0,
      "outputs": []
    },
    {
      "cell_type": "code",
      "metadata": {
        "id": "IbI2k66auXPM",
        "colab_type": "code",
        "colab": {}
      },
      "source": [
        "def generate_examples(dataset_type = \"linear\", N = 9, noise = 0.2, dist_noise = 0.2):\n",
        "    if dataset_type == \"linear\":\n",
        "        X = np.linspace(0, 10, N)\n",
        "        t = X * 0.25 + 1.75 + np.random.randn(N) * noise\n",
        "        return X, t\n",
        "    \n",
        "    elif dataset_type == \"polinomial\":\n",
        "        X = np.linspace(-1.5, 5.5, N)\n",
        "        X += np.random.randn(N) * dist_noise\n",
        "        t = .25*X * X - X + 1 + np.random.randn(N) * noise\n",
        "        return X, t\n",
        "    \n",
        "    elif dataset_type == \"sin\":\n",
        "        X = np.linspace(0, 1.75 * np.pi, N)\n",
        "        X += np.random.randn(N) * dist_noise\n",
        "        t = np.sin(X) + np.random.randn(N) * noise\n",
        "        return X, t\n",
        "    \n",
        "    else:\n",
        "        raise ValueError(\"Unknown dataset type: \" + dataset_type)"
      ],
      "execution_count": 0,
      "outputs": []
    },
    {
      "cell_type": "markdown",
      "metadata": {
        "id": "utEGU2CCuXPS",
        "colab_type": "text"
      },
      "source": [
        "## 6. Cerinta 1: Implementare model de regresie liniara"
      ]
    },
    {
      "cell_type": "markdown",
      "metadata": {
        "id": "wJ-M7TgfuXPW",
        "colab_type": "text"
      },
      "source": [
        "### 6.1 Cerinta 1.1: Implementarea modelului general de regresie liniara [3 pct]"
      ]
    },
    {
      "cell_type": "code",
      "metadata": {
        "id": "VqgYUt23uXPZ",
        "colab_type": "code",
        "colab": {}
      },
      "source": [
        "class LinearRegression(object):\n",
        "    \"\"\"\n",
        "    Modelul de Regresie Liniara\n",
        "    y = X @ w \n",
        "        - valoarea prezisă de model\n",
        "    t ~ N(t|X @ w, var) \n",
        "        - valorile de antrenare (target) sunt fac parte dintr-o distributie normala in jurul mean-ului X@w, \n",
        "          la care se adauga zgomot dat de varianta `var`\n",
        "    \"\"\"\n",
        "\n",
        "    def fit(self, X, t):\n",
        "        \"\"\"\n",
        "        Antrenarea modelului in sensul celor mai mici patrate (least squares fitting)\n",
        "        Parameterii\n",
        "        ----------\n",
        "        X : (N, D) np.ndarray\n",
        "            variabilele de intrare\n",
        "        t : (N,) np.ndarray\n",
        "            variabilele tinta (target / ground truth)\n",
        "        \"\"\"\n",
        "        # TODO codul vostru aici: calculati vectorul de ponderi w\n",
        "        N, D = X.shape\n",
        "        self.w = np.linalg.pinv(X) @ t        # end \n",
        "        \n",
        "        self.var = np.mean(np.square(X @ self.w - t))\n",
        "\n",
        "    def predict(self, X, return_std=False):\n",
        "        \"\"\"\n",
        "        Intoarce valoari prezise de model pentru sample-uri X\n",
        "        Parametrii\n",
        "        ----------\n",
        "        X : (N, D) np.ndarray\n",
        "            sample-uri de valori D-dimensionale pentru care se doreste predictia valorii conform modelului\n",
        "        return_std : bool, optional\n",
        "            intoarce deviatia standard a fiecarei valori prezice, daca e setat pe True\n",
        "        \n",
        "        Intoarce\n",
        "        -------\n",
        "        y : (N,) np.ndarray\n",
        "            vector de valori prezise\n",
        "        y_std : (N,) np.ndarray\n",
        "            deviatia standard a fiecarei valori prezise\n",
        "        \"\"\"\n",
        "        # TODO codul vostru aici: calculati valoarea prezisa de modelul vostru\n",
        "        N, D = X.shape\n",
        "        y = X @ self.w\n",
        "        # end codul vostru aici\n",
        "        \n",
        "        if return_std:\n",
        "            # TODO codul vostru aici: intoarceti un vector de aceeasi dimensiune cu y, care \n",
        "            # are pe fiecare valoare egala cu deviatia standard modelului antrenat (i.e. sqrt(var))\n",
        "            y_std = np.sqrt(self.var)\n",
        "            return y, y_std\n",
        "        return y"
      ],
      "execution_count": 0,
      "outputs": []
    },
    {
      "cell_type": "markdown",
      "metadata": {
        "colab_type": "text",
        "id": "I1-JLlH0WFAi"
      },
      "source": [
        "### 6.2 Cerinta 1.2 Implementarea functiei de transformare polinomiala [1 pct]\n",
        "$$\\phi_i(x) = x^i, \\quad 0 \\le i \\le M$$"
      ]
    },
    {
      "cell_type": "code",
      "metadata": {
        "colab_type": "code",
        "id": "uzIx-cX2WFAj",
        "scrolled": true,
        "colab": {}
      },
      "source": [
        "def extract_polynomial_features(X, M):\n",
        "    # TODO codul vostru aici: intoarceti valorile phi_n astfel incat pentru fiecare \n",
        "    # intrare x phi_n = [1, x, x^2, ..., x^M]\n",
        "    print(X.size)\n",
        "    phi = np.ones([X.size, M + 1])\n",
        "\n",
        "    for i in range(X.size):\n",
        "        for j in range(M + 1):\n",
        "            phi[i][j] = np.power(X[i], j)\n",
        "    return phi"
      ],
      "execution_count": 0,
      "outputs": []
    },
    {
      "cell_type": "markdown",
      "metadata": {
        "id": "0XMgHIWiuXPn",
        "colab_type": "text"
      },
      "source": [
        "### 6.3 Cerinta 1.3 Potrivirea unei drepte prin regresie liniara simpla [1 pct]"
      ]
    },
    {
      "cell_type": "code",
      "metadata": {
        "id": "EsCYyJCEuXPp",
        "colab_type": "code",
        "colab": {
          "base_uri": "https://localhost:8080/",
          "height": 403
        },
        "outputId": "05b41d41-cfeb-4019-9ac2-10027e70cbad"
      },
      "source": [
        "N_train = 10\n",
        "N_test = 10\n",
        "noise = 0.22\n",
        "\n",
        "X_train, t_train = generate_examples(dataset_type=\"linear\", N=N_train, noise=noise)\n",
        "X_test, t_test = generate_examples(dataset_type=\"linear\", N=N_test, noise=noise)\n",
        "X_real, t_real = generate_examples(dataset_type=\"linear\", N=N_test, noise=0.)\n",
        "\n",
        "print(X_test)\n",
        "print(extract_polynomial_features(X_test, 5))"
      ],
      "execution_count": 390,
      "outputs": [
        {
          "output_type": "stream",
          "text": [
            "[ 0.          1.11111111  2.22222222  3.33333333  4.44444444  5.55555556\n",
            "  6.66666667  7.77777778  8.88888889 10.        ]\n",
            "10\n",
            "[[1.00000000e+00 0.00000000e+00 0.00000000e+00 0.00000000e+00\n",
            "  0.00000000e+00 0.00000000e+00]\n",
            " [1.00000000e+00 1.11111111e+00 1.23456790e+00 1.37174211e+00\n",
            "  1.52415790e+00 1.69350878e+00]\n",
            " [1.00000000e+00 2.22222222e+00 4.93827160e+00 1.09739369e+01\n",
            "  2.43865264e+01 5.41922810e+01]\n",
            " [1.00000000e+00 3.33333333e+00 1.11111111e+01 3.70370370e+01\n",
            "  1.23456790e+02 4.11522634e+02]\n",
            " [1.00000000e+00 4.44444444e+00 1.97530864e+01 8.77914952e+01\n",
            "  3.90184423e+02 1.73415299e+03]\n",
            " [1.00000000e+00 5.55555556e+00 3.08641975e+01 1.71467764e+02\n",
            "  9.52598689e+02 5.29221494e+03]\n",
            " [1.00000000e+00 6.66666667e+00 4.44444444e+01 2.96296296e+02\n",
            "  1.97530864e+03 1.31687243e+04]\n",
            " [1.00000000e+00 7.77777778e+00 6.04938272e+01 4.70507545e+02\n",
            "  3.65950312e+03 2.84628021e+04]\n",
            " [1.00000000e+00 8.88888889e+00 7.90123457e+01 7.02331962e+02\n",
            "  6.24295077e+03 5.54928957e+04]\n",
            " [1.00000000e+00 1.00000000e+01 1.00000000e+02 1.00000000e+03\n",
            "  1.00000000e+04 1.00000000e+05]]\n"
          ],
          "name": "stdout"
        }
      ]
    },
    {
      "cell_type": "code",
      "metadata": {
        "colab_type": "code",
        "id": "-UlrIODiWFAe",
        "outputId": "ca8859d6-f9f7-41b1-a78f-f938d40cf8f1",
        "scrolled": false,
        "colab": {
          "base_uri": "https://localhost:8080/",
          "height": 388
        }
      },
      "source": [
        "plt.figure(figsize=(12,6)); plt.axis('equal')\n",
        "plt.plot(X_real, t_real, sns.xkcd_rgb[\"green\"], label=\"Ideal function\")\n",
        "plt.scatter(X_train, t_train, s=100, label=\"Train examples\")\n",
        "plt.scatter(X_test, t_test, s=10, label=\"Test examples\")\n",
        "plt.xlabel(\"x\")\n",
        "plt.legend(bbox_to_anchor=(1, 1), loc='upper right', ncol=1)\n",
        "plt.show()"
      ],
      "execution_count": 391,
      "outputs": [
        {
          "output_type": "display_data",
          "data": {
            "image/png": "[encoded data removed]",
            "text/plain": [
              "<Figure size 864x432 with 1 Axes>"
            ]
          },
          "metadata": {
            "tags": []
          }
        }
      ]
    },
    {
      "cell_type": "code",
      "metadata": {
        "id": "Awea4_bOuXP2",
        "colab_type": "code",
        "colab": {
          "base_uri": "https://localhost:8080/",
          "height": 84
        },
        "outputId": "28ee040c-ea12-45b2-c652-4c221dac5205"
      },
      "source": [
        "# TODO codul vostru aici:\n",
        "\n",
        "# creati un model liniar\n",
        "model = LinearRegression()\n",
        "\n",
        "# Folositi functia extract_polynomial_features pentru a introduce termenul de bias in matricile X_train si X_test\n",
        "M = 5\n",
        "X_train_feat = extract_polynomial_features(X_train, M)\n",
        "X_test_feat = extract_polynomial_features(X_test, M)\n",
        "\n",
        "# antrenati modelul vostru\n",
        "model.fit(X_train_feat, t_train)\n",
        "\n",
        "# obtineti predictia pe setul de antrenare si pe setul de test\n",
        "y_train = model.predict(X_test_feat) \n",
        "y_test, y_test_std = model.predict(X_test_feat, True)\n",
        "print(y_test)"
      ],
      "execution_count": 392,
      "outputs": [
        {
          "output_type": "stream",
          "text": [
            "10\n",
            "10\n",
            "[1.87085276 2.29004155 2.43789772 2.5901257  2.84255454 3.17357505\n",
            " 3.5065768  3.77238525 3.97169879 4.2375258 ]\n"
          ],
          "name": "stdout"
        }
      ]
    },
    {
      "cell_type": "code",
      "metadata": {
        "id": "ovIgALoAuXP8",
        "colab_type": "code",
        "colab": {}
      },
      "source": [
        "def mean_squared_error(y, t):\n",
        "    return np.mean(np.power(y - t, 2))"
      ],
      "execution_count": 0,
      "outputs": []
    },
    {
      "cell_type": "code",
      "metadata": {
        "id": "klNyqzW5uXQC",
        "colab_type": "code",
        "outputId": "5e22eb1e-a752-48d0-f62d-6f250b8a0ce7",
        "colab": {
          "base_uri": "https://localhost:8080/",
          "height": 50
        }
      },
      "source": [
        "print(\"Train error:\", mean_squared_error(y_train, t_train))\n",
        "print(\"Test  error:\", mean_squared_error(y_test, t_test))"
      ],
      "execution_count": 394,
      "outputs": [
        {
          "output_type": "stream",
          "text": [
            "Train error: 0.056065320622016857\n",
            "Test  error: 0.04748930570783363\n"
          ],
          "name": "stdout"
        }
      ]
    },
    {
      "cell_type": "markdown",
      "metadata": {
        "id": "kb8u_wGQuXQJ",
        "colab_type": "text"
      },
      "source": [
        "#### Vizualizarea modelului invatat"
      ]
    },
    {
      "cell_type": "code",
      "metadata": {
        "id": "QJNs7VccuXQL",
        "colab_type": "code",
        "outputId": "abea9874-a0bf-40e8-bdab-08deb3007e47",
        "colab": {
          "base_uri": "https://localhost:8080/",
          "height": 265
        }
      },
      "source": [
        "plt.scatter(X_train, t_train, facecolor=\"none\", edgecolor=\"b\", s=50, label=\"training data\")\n",
        "plt.plot(X_real, t_real, label=\"line\")\n",
        "plt.plot(X_test, y_test, label=\"prediction\")\n",
        "plt.fill_between(\n",
        "    X_test, y_test - y_test_std, y_test + y_test_std,\n",
        "    color=\"orange\", alpha=0.5, label=\"std.\")\n",
        "plt.legend()\n",
        "plt.show()"
      ],
      "execution_count": 395,
      "outputs": [
        {
          "output_type": "display_data",
          "data": {
            "image/png": "[encoded data removed]",
            "text/plain": [
              "<Figure size 432x288 with 1 Axes>"
            ]
          },
          "metadata": {
            "tags": []
          }
        }
      ]
    },
    {
      "cell_type": "markdown",
      "metadata": {
        "id": "FduEteP6uXQX",
        "colab_type": "text"
      },
      "source": [
        "## 7. Cerinta 2.1: Implementare regresie liniara cu regularizare (Ridge Regression) [3 pct]"
      ]
    },
    {
      "cell_type": "code",
      "metadata": {
        "id": "tAqjU4hSuXQY",
        "colab_type": "code",
        "colab": {}
      },
      "source": [
        "class RidgeRegression(LinearRegression):\n",
        "    \"\"\"\n",
        "    Modelul de regresie liniara, folosind regularizare L2\n",
        "    w* = argmin |t - X @ w| + alpha * |w|_2^2\n",
        "    \"\"\"\n",
        "\n",
        "    def __init__(self, alpha:float=1.):\n",
        "        super(RidgeRegression, self).__init__()\n",
        "        self.alpha = alpha\n",
        "\n",
        "        \n",
        "    def fit(self, X:np.ndarray, t:np.ndarray):\n",
        "        \"\"\"\n",
        "        Antrenarea modelului in sensul celor mai mici patrate (least squares fitting), tinand cont si de regularizare\n",
        "        Parameterii\n",
        "        ----------\n",
        "         X : (N, D) np.ndarray\n",
        "            variabilele de intrare\n",
        "        t : (N,) np.ndarray\n",
        "            variabilele tinta (target / ground truth)\n",
        "        \"\"\"\n",
        "        # TODO codul vostru aici: calculati vectorul de ponderi w, conform formulei de la punctul 5 \n",
        "        N, D = X.shape\n",
        "        A = X.T @ X + self.alpha * np.identity(D)\n",
        "        B = X.T @ t\n",
        "        self.w = np.linalg.solve(A, B)\n",
        "        # end\n",
        "        \n",
        "        self.var = np.mean(np.square(X @ self.w - t))"
      ],
      "execution_count": 0,
      "outputs": []
    },
    {
      "cell_type": "markdown",
      "metadata": {
        "id": "meM9WC3zuXQd",
        "colab_type": "text"
      },
      "source": [
        "## 7.1 Cerinta 2.2: Potrivirea functiei sin(x) cu feature-uri polinomiale [1 pct]"
      ]
    },
    {
      "cell_type": "markdown",
      "metadata": {
        "id": "5L9H7XyruXQf",
        "colab_type": "text"
      },
      "source": [
        "**Analizati** modelele de regresie liniara _cu_ si _fara_  regularizare. Ce concluzii se deduc din graficele de vizualizare si valorile functiei de eroare (MSE - mean squared error)"
      ]
    },
    {
      "cell_type": "code",
      "metadata": {
        "id": "3cfxVxT8uXQh",
        "colab_type": "code",
        "colab": {}
      },
      "source": [
        "N_train = 10 #@param {type: \"slider\", default: 10, min: 10, max: 100}\n",
        "N_test = 20\n",
        "noise = 0.22\n",
        "\n",
        "X_train, t_train = generate_examples(dataset_type=\"sin\", N=N_train, noise=noise)\n",
        "X_test, t_test = generate_examples(dataset_type=\"sin\", N=N_test, noise=noise)\n",
        "X_real, t_real = generate_examples(dataset_type=\"sin\", N=100, noise=.0, dist_noise=.0)"
      ],
      "execution_count": 0,
      "outputs": []
    },
    {
      "cell_type": "markdown",
      "metadata": {
        "id": "Bb_yjG9-uXQk",
        "colab_type": "text"
      },
      "source": [
        "### Folosirea unui model de regresie liniara, _fara_ regularizare"
      ]
    },
    {
      "cell_type": "code",
      "metadata": {
        "id": "9cpmASLmuXQl",
        "colab_type": "code",
        "colab": {
          "base_uri": "https://localhost:8080/",
          "height": 50
        },
        "outputId": "6f112494-31b2-4eae-dde0-9cb6afa8d3fe"
      },
      "source": [
        "M = 8 #@param {type: \"slider\", default: 8, min: 1, max: 15}\n",
        "X_train_feat = extract_polynomial_features(X_train, M)\n",
        "X_test_feat = extract_polynomial_features(X_test, M)\n",
        "\n",
        "model = LinearRegression()\n",
        "model.fit(X_train_feat, t_train)\n",
        "\n",
        "y_train = model.predict(X_train_feat, return_std=False) \n",
        "y_test, y_test_std = model.predict(X_test_feat, return_std=True)"
      ],
      "execution_count": 398,
      "outputs": [
        {
          "output_type": "stream",
          "text": [
            "10\n",
            "20\n"
          ],
          "name": "stdout"
        }
      ]
    },
    {
      "cell_type": "markdown",
      "metadata": {
        "colab_type": "text",
        "id": "UXVKiwziWFAu"
      },
      "source": [
        "#### Vizualizarea modelului invatat"
      ]
    },
    {
      "cell_type": "code",
      "metadata": {
        "colab_type": "code",
        "id": "-mzDqoAwWFAv",
        "outputId": "724282cd-5e2c-4c6e-f28f-45d4d9ca5812",
        "scrolled": true,
        "colab": {
          "base_uri": "https://localhost:8080/",
          "height": 298
        }
      },
      "source": [
        "print(\"Train error:\", mean_squared_error(y_train, t_train))\n",
        "print(\"Test  error:\", mean_squared_error(y_test, t_test))\n",
        "\n",
        "# Plot\n",
        "plt.scatter(X_train, t_train, facecolor=\"none\", edgecolor=\"b\", s=50, label=\"training data\")\n",
        "plt.plot(X_real, t_real, label=\"$\\sin(2\\pi x)$\")\n",
        "plt.plot(X_test, y_test, label=\"prediction\")\n",
        "plt.fill_between(\n",
        "    X_test, y_test - y_test_std, y_test + y_test_std,\n",
        "    color=\"orange\", alpha=0.5, label=\"std.\")\n",
        "plt.legend()\n",
        "plt.show()"
      ],
      "execution_count": 399,
      "outputs": [
        {
          "output_type": "stream",
          "text": [
            "Train error: 0.005101262832916193\n",
            "Test  error: 0.4466904980125387\n"
          ],
          "name": "stdout"
        },
        {
          "output_type": "display_data",
          "data": {
            "image/png": "[encoded data removed]",
            "text/plain": [
              "<Figure size 432x288 with 1 Axes>"
            ]
          },
          "metadata": {
            "tags": []
          }
        }
      ]
    },
    {
      "cell_type": "markdown",
      "metadata": {
        "id": "WME6y5UTuXQt",
        "colab_type": "text"
      },
      "source": [
        "### Folosirea unui model de regresie liniara, _cu_ regularizare"
      ]
    },
    {
      "cell_type": "code",
      "metadata": {
        "id": "sDjxs0oNuXQv",
        "colab_type": "code",
        "colab": {}
      },
      "source": [
        "model = RidgeRegression(alpha=1.75)\n",
        "model.fit(X_train_feat, t_train)\n",
        "\n",
        "y_train = model.predict(X_train_feat, return_std=False) \n",
        "y_test, y_test_std = model.predict(X_test_feat, return_std=True)"
      ],
      "execution_count": 0,
      "outputs": []
    },
    {
      "cell_type": "code",
      "metadata": {
        "id": "k--WUIfDuXQy",
        "colab_type": "code",
        "outputId": "a4e1eabd-0751-428a-855a-faf42ced7b6c",
        "colab": {
          "base_uri": "https://localhost:8080/",
          "height": 298
        }
      },
      "source": [
        "print(\"Train error:\", mean_squared_error(y_train, t_train))\n",
        "print(\"Test  error:\", mean_squared_error(y_test, t_test))\n",
        "\n",
        "# Plot\n",
        "plt.scatter(X_train, t_train, facecolor=\"none\", edgecolor=\"b\", s=50, label=\"training data\")\n",
        "plt.plot(X_real, t_real, label=\"$\\sin(2\\pi x)$\")\n",
        "plt.plot(X_test, y_test, label=\"prediction\")\n",
        "plt.fill_between(\n",
        "    X_test, y_test - y_test_std, y_test + y_test_std,\n",
        "    color=\"orange\", alpha=0.5, label=\"std.\")\n",
        "plt.legend()\n",
        "plt.show()"
      ],
      "execution_count": 401,
      "outputs": [
        {
          "output_type": "stream",
          "text": [
            "Train error: 0.04355474896860252\n",
            "Test  error: 0.117110604982849\n"
          ],
          "name": "stdout"
        },
        {
          "output_type": "display_data",
          "data": {
            "image/png": "[encoded data removed]",
            "text/plain": [
              "<Figure size 432x288 with 1 Axes>"
            ]
          },
          "metadata": {
            "tags": []
          }
        }
      ]
    },
    {
      "cell_type": "markdown",
      "metadata": {
        "colab_type": "text",
        "id": "IBWbAz1RWFAy"
      },
      "source": [
        "## 8. Cerinta 3: Vizualizarea curbelor de antrenare si testare [1 pct]"
      ]
    },
    {
      "cell_type": "markdown",
      "metadata": {
        "id": "AG2_lNISuXQ3",
        "colab_type": "text"
      },
      "source": [
        "**Analizati** curbele de _antrenare_ si _testare_ pentru modele de regresie liniara _cu_ si _fara_ regularizare, de **complexitate** diferita (M diferit).\n",
        "\n",
        "Discutati graficele rezultate:\n",
        "* care este regimul de underfitting?\n",
        "* care este regimul de overfitting?\n",
        "* ce se intampla daca modificati numarul de date de antrenare (N_train) de la punctul 7.1? "
      ]
    },
    {
      "cell_type": "code",
      "metadata": {
        "colab_type": "code",
        "id": "wVflHuMoWFAz",
        "outputId": "56412ab1-c486-4285-dd80-7d59af7a7294",
        "colab": {
          "base_uri": "https://localhost:8080/",
          "height": 892
        }
      },
      "source": [
        "train_lin_mse = []\n",
        "test_lin_mse = []\n",
        "\n",
        "train_ridge_mse = []\n",
        "test_ridge_mse = []\n",
        "\n",
        "for M in range(15):\n",
        "    X_train_feat = extract_polynomial_features(X_train, M)\n",
        "    X_test_feat = extract_polynomial_features(X_test, M)\n",
        "    \n",
        "    model_linear = LinearRegression()\n",
        "    model_ridge = RidgeRegression(alpha=1.75)\n",
        "    \n",
        "    model_linear.fit(X_train_feat, t_train)\n",
        "    model_ridge.fit(X_train_feat, t_train)\n",
        "    \n",
        "    y_train_lin = model_linear.predict(X_train_feat)\n",
        "    y_test_lin = model_linear.predict(X_test_feat)\n",
        "    \n",
        "    y_train_ridge = model_ridge.predict(X_train_feat)\n",
        "    y_test_ridge = model_ridge.predict(X_test_feat)\n",
        "    \n",
        "    train_lin_mse.append(mean_squared_error(y_train_lin, t_train))\n",
        "    test_lin_mse.append(mean_squared_error(y_test_lin, t_test))\n",
        "    \n",
        "    train_ridge_mse.append(mean_squared_error(y_train_ridge, t_train))\n",
        "    test_ridge_mse.append(mean_squared_error(y_test_ridge, t_test))\n",
        "\n",
        "plt.figure(figsize=(20,6))\n",
        "# plot training/test curves depending on model size for LinearRegression\n",
        "plt.subplot(1, 2, 1)\n",
        "plt.plot(range(M+1), train_lin_mse, sns.xkcd_rgb[\"green\"], label=\"Train MSE w/o reg\")\n",
        "plt.plot(range(M+1), test_lin_mse, sns.xkcd_rgb[\"red\"], label=\"Test MSE w/o reg\")\n",
        "plt.xlabel(\"M\")\n",
        "plt.ylabel(\"MSE\")\n",
        "plt.legend(bbox_to_anchor=(0, 1), loc='upper left', ncol=1)\n",
        "plt.ylim(0, 1.5)\n",
        "\n",
        "# plot training/test curves depending on model size for RidgeRegression\n",
        "plt.subplot(1, 2, 2)\n",
        "plt.plot(range(M+1), train_ridge_mse, sns.xkcd_rgb[\"green\"], label=\"Train MSE w/ reg\")\n",
        "plt.plot(range(M+1), test_ridge_mse, sns.xkcd_rgb[\"red\"], label=\"Test MSE w/ reg\")\n",
        "plt.xlabel(\"M\")\n",
        "plt.ylabel(\"MSE\")\n",
        "plt.legend(bbox_to_anchor=(0, 1), loc='upper left', ncol=1)\n",
        "plt.ylim(0, 1.5)\n",
        "\n",
        "plt.show()"
      ],
      "execution_count": 409,
      "outputs": [
        {
          "output_type": "stream",
          "text": [
            "10\n",
            "20\n",
            "10\n",
            "20\n",
            "10\n",
            "20\n",
            "10\n",
            "20\n",
            "10\n",
            "20\n",
            "10\n",
            "20\n",
            "10\n",
            "20\n",
            "10\n",
            "20\n",
            "10\n",
            "20\n",
            "10\n",
            "20\n",
            "10\n",
            "20\n",
            "10\n",
            "20\n",
            "10\n",
            "20\n",
            "10\n",
            "20\n",
            "10\n",
            "20\n"
          ],
          "name": "stdout"
        },
        {
          "output_type": "display_data",
          "data": {
            "image/png": "[encoded data removed]",
            "text/plain": [
              "<Figure size 1440x432 with 2 Axes>"
            ]
          },
          "metadata": {
            "tags": []
          }
        }
      ]
    },
    {
      "cell_type": "code",
      "metadata": {
        "id": "wkVMa6z2uXQ-",
        "colab_type": "code",
        "colab": {}
      },
      "source": [
        ""
      ],
      "execution_count": 0,
      "outputs": []
    },
    {
      "cell_type": "code",
      "metadata": {
        "id": "_3SsIaxmuXRB",
        "colab_type": "code",
        "colab": {}
      },
      "source": [
        ""
      ],
      "execution_count": 0,
      "outputs": []
    },
    {
      "cell_type": "code",
      "metadata": {
        "id": "kqJEjwHjuXRH",
        "colab_type": "code",
        "colab": {}
      },
      "source": [
        ""
      ],
      "execution_count": 0,
      "outputs": []
    }
  ]
}